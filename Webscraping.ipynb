{
 "cells": [
  {
   "cell_type": "code",
   "execution_count": 108,
   "id": "b4b22677-babf-4503-934e-d1a1184ad577",
   "metadata": {},
   "outputs": [],
   "source": [
    "import requests\n",
    "# Reads the site.\n",
    "r = requests.get('https://www.topuniversities.com/where-to-study/north-america/united-states/ranked-top-100-us-universities')"
   ]
  },
  {
   "cell_type": "code",
   "execution_count": 110,
   "id": "1bfdaa4d-62bf-478b-a4bb-1c0f3ec002a1",
   "metadata": {},
   "outputs": [
    {
     "data": {
      "text/plain": [
       "102"
      ]
     },
     "execution_count": 110,
     "metadata": {},
     "output_type": "execute_result"
    }
   ],
   "source": [
    "from bs4 import BeautifulSoup\n",
    "\n",
    "# Parses the html\n",
    "soup = BeautifulSoup(r.text, 'html.parser')\n",
    "\n",
    "# Extracts the data\n",
    "results = soup.find_all('td', attrs = {'style':'width: 394px;'})\n",
    "\n",
    "# Displays length of the data for reference. Looks right since there are only 100 universities according to the website.\n",
    "len(results)"
   ]
  },
  {
   "cell_type": "code",
   "execution_count": 114,
   "id": "2724d16d-83cc-4d73-8a9b-074b41098ffe",
   "metadata": {},
   "outputs": [],
   "source": [
    "# # Extracting the first result for reference\n",
    "\n",
    "# first_result = results[2]\n",
    "# first_result\n",
    "\n",
    "# # finds the tag between the title\n",
    "# first_result.find('p')\n",
    "# first_result.find('a')\n",
    "\n",
    "# print(first_result.find('p').text)\n",
    "# print(first_result.find('a')['href'])"
   ]
  },
  {
   "cell_type": "code",
   "execution_count": 115,
   "id": "2fb02e7b-ea12-404a-939f-59738465c42e",
   "metadata": {},
   "outputs": [],
   "source": [
    "# ------------------------------------- BUILDING THE DATA SET ------------------------------------- \n",
    "\n",
    "universities = []\n",
    "\n",
    "# Extracts the University title and link.\n",
    "\n",
    "for result in results[1:]:\n",
    "        title = result.find('p').text\n",
    "        link = result.find('a')['href'] # this place\n",
    "        universities.append((title, link))"
   ]
  },
  {
   "cell_type": "code",
   "execution_count": 117,
   "id": "a74dab1e-f28e-4c41-87cd-a6801cff7585",
   "metadata": {},
   "outputs": [],
   "source": [
    "import pandas as pd\n",
    "\n",
    "# Uses pandas to create a dataframe and changes the column to be the max width needed.\n",
    "\n",
    "pd.set_option('display.max_colwidth', 0)\n",
    "df = pd.DataFrame(universities, columns = ['University', 'Link'])"
   ]
  },
  {
   "cell_type": "code",
   "execution_count": 119,
   "id": "14def439-686e-45c0-8f23-b9f7064ef840",
   "metadata": {},
   "outputs": [
    {
     "data": {
      "text/html": [
       "<div>\n",
       "<style scoped>\n",
       "    .dataframe tbody tr th:only-of-type {\n",
       "        vertical-align: middle;\n",
       "    }\n",
       "\n",
       "    .dataframe tbody tr th {\n",
       "        vertical-align: top;\n",
       "    }\n",
       "\n",
       "    .dataframe thead th {\n",
       "        text-align: right;\n",
       "    }\n",
       "</style>\n",
       "<table border=\"1\" class=\"dataframe\">\n",
       "  <thead>\n",
       "    <tr style=\"text-align: right;\">\n",
       "      <th></th>\n",
       "      <th>University</th>\n",
       "      <th>Link</th>\n",
       "    </tr>\n",
       "  </thead>\n",
       "  <tbody>\n",
       "    <tr>\n",
       "      <th>0</th>\n",
       "      <td>Massachusetts Institute of Technology (MIT)</td>\n",
       "      <td>https://www.topuniversities.com/universities/massachusetts-institute-technology-mit</td>\n",
       "    </tr>\n",
       "    <tr>\n",
       "      <th>1</th>\n",
       "      <td>Stanford University</td>\n",
       "      <td>https://www.topuniversities.com/universities/stanford-university</td>\n",
       "    </tr>\n",
       "    <tr>\n",
       "      <th>2</th>\n",
       "      <td>Harvard University</td>\n",
       "      <td>https://www.topuniversities.com/universities/harvard-university</td>\n",
       "    </tr>\n",
       "    <tr>\n",
       "      <th>3</th>\n",
       "      <td>California Institute of Technology (Caltech)</td>\n",
       "      <td>https://www.topuniversities.com/universities/california-institute-technology-caltech</td>\n",
       "    </tr>\n",
       "    <tr>\n",
       "      <th>4</th>\n",
       "      <td>University of Chicago</td>\n",
       "      <td>https://www.topuniversities.com/universities/university-chicago</td>\n",
       "    </tr>\n",
       "  </tbody>\n",
       "</table>\n",
       "</div>"
      ],
      "text/plain": [
       "                                     University  \\\n",
       "0  Massachusetts Institute of Technology (MIT)    \n",
       "1  Stanford University                            \n",
       "2  Harvard University                             \n",
       "3  California Institute of Technology (Caltech)   \n",
       "4  University of Chicago                          \n",
       "\n",
       "                                                                                   Link  \n",
       "0  https://www.topuniversities.com/universities/massachusetts-institute-technology-mit   \n",
       "1  https://www.topuniversities.com/universities/stanford-university                      \n",
       "2  https://www.topuniversities.com/universities/harvard-university                       \n",
       "3  https://www.topuniversities.com/universities/california-institute-technology-caltech  \n",
       "4  https://www.topuniversities.com/universities/university-chicago                       "
      ]
     },
     "execution_count": 119,
     "metadata": {},
     "output_type": "execute_result"
    }
   ],
   "source": [
    "# Exporting the dataframe to a CSV File\n",
    "\n",
    "df.to_csv('Top_10_Universities', index=False, encoding='utf-8')"
   ]
  }
 ],
 "metadata": {
  "kernelspec": {
   "display_name": "Python 3 (ipykernel)",
   "language": "python",
   "name": "python3"
  },
  "language_info": {
   "codemirror_mode": {
    "name": "ipython",
    "version": 3
   },
   "file_extension": ".py",
   "mimetype": "text/x-python",
   "name": "python",
   "nbconvert_exporter": "python",
   "pygments_lexer": "ipython3",
   "version": "3.9.7"
  }
 },
 "nbformat": 4,
 "nbformat_minor": 5
}
